{
 "cells": [
  {
   "cell_type": "markdown",
   "metadata": {
    "id": "FgupjSBuZnz2"
   },
   "source": [
    "The dataset can be Downloaded at - [github](https://github.com/zygmuntz/goodbooks-10k)\n",
    "\n",
    "Ten thousand books, six million ratings."
   ]
  },
  {
   "cell_type": "markdown",
   "metadata": {
    "id": "Ly0eTMtiZ2K9"
   },
   "source": [
    "# Data ETL"
   ]
  },
  {
   "cell_type": "code",
   "execution_count": 1,
   "metadata": {
    "cellView": "form",
    "colab": {
     "base_uri": "https://localhost:8080/",
     "height": 34
    },
    "id": "Se-wvdbNZk2B",
    "outputId": "b6ab4e10-70d0-4acd-aede-183ffe8e9433"
   },
   "outputs": [],
   "source": [
    "import numpy as np \n",
    "import pandas as pd \n",
    "import os\n",
    "from sklearn.feature_extraction.text import TfidfVectorizer\n",
    "from sklearn.metrics.pairwise import linear_kernel"
   ]
  },
  {
   "cell_type": "code",
   "execution_count": 2,
   "metadata": {
    "colab": {
     "base_uri": "https://localhost:8080/",
     "height": 1000
    },
    "id": "E5Sm4kosa9IW",
    "outputId": "6cc8dec2-478f-4d86-e723-d8b64cbde7f3"
   },
   "outputs": [
    {
     "data": {
      "text/html": [
       "<div>\n",
       "<style scoped>\n",
       "    .dataframe tbody tr th:only-of-type {\n",
       "        vertical-align: middle;\n",
       "    }\n",
       "\n",
       "    .dataframe tbody tr th {\n",
       "        vertical-align: top;\n",
       "    }\n",
       "\n",
       "    .dataframe thead th {\n",
       "        text-align: right;\n",
       "    }\n",
       "</style>\n",
       "<table border=\"1\" class=\"dataframe\">\n",
       "  <thead>\n",
       "    <tr style=\"text-align: right;\">\n",
       "      <th></th>\n",
       "      <th>book_id</th>\n",
       "      <th>goodreads_book_id</th>\n",
       "      <th>best_book_id</th>\n",
       "      <th>work_id</th>\n",
       "      <th>books_count</th>\n",
       "      <th>isbn</th>\n",
       "      <th>isbn13</th>\n",
       "      <th>authors</th>\n",
       "      <th>original_publication_year</th>\n",
       "      <th>original_title</th>\n",
       "      <th>...</th>\n",
       "      <th>ratings_count</th>\n",
       "      <th>work_ratings_count</th>\n",
       "      <th>work_text_reviews_count</th>\n",
       "      <th>ratings_1</th>\n",
       "      <th>ratings_2</th>\n",
       "      <th>ratings_3</th>\n",
       "      <th>ratings_4</th>\n",
       "      <th>ratings_5</th>\n",
       "      <th>image_url</th>\n",
       "      <th>small_image_url</th>\n",
       "    </tr>\n",
       "  </thead>\n",
       "  <tbody>\n",
       "    <tr>\n",
       "      <th>0</th>\n",
       "      <td>1</td>\n",
       "      <td>2767052</td>\n",
       "      <td>2767052</td>\n",
       "      <td>2792775</td>\n",
       "      <td>272</td>\n",
       "      <td>439023483</td>\n",
       "      <td>9.780439e+12</td>\n",
       "      <td>Suzanne Collins</td>\n",
       "      <td>2008.0</td>\n",
       "      <td>The Hunger Games</td>\n",
       "      <td>...</td>\n",
       "      <td>4780653</td>\n",
       "      <td>4942365</td>\n",
       "      <td>155254</td>\n",
       "      <td>66715</td>\n",
       "      <td>127936</td>\n",
       "      <td>560092</td>\n",
       "      <td>1481305</td>\n",
       "      <td>2706317</td>\n",
       "      <td>https://images.gr-assets.com/books/1447303603m...</td>\n",
       "      <td>https://images.gr-assets.com/books/1447303603s...</td>\n",
       "    </tr>\n",
       "    <tr>\n",
       "      <th>1</th>\n",
       "      <td>2</td>\n",
       "      <td>3</td>\n",
       "      <td>3</td>\n",
       "      <td>4640799</td>\n",
       "      <td>491</td>\n",
       "      <td>439554934</td>\n",
       "      <td>9.780440e+12</td>\n",
       "      <td>J.K. Rowling, Mary GrandPrÃ©</td>\n",
       "      <td>1997.0</td>\n",
       "      <td>Harry Potter and the Philosopher's Stone</td>\n",
       "      <td>...</td>\n",
       "      <td>4602479</td>\n",
       "      <td>4800065</td>\n",
       "      <td>75867</td>\n",
       "      <td>75504</td>\n",
       "      <td>101676</td>\n",
       "      <td>455024</td>\n",
       "      <td>1156318</td>\n",
       "      <td>3011543</td>\n",
       "      <td>https://images.gr-assets.com/books/1474154022m...</td>\n",
       "      <td>https://images.gr-assets.com/books/1474154022s...</td>\n",
       "    </tr>\n",
       "    <tr>\n",
       "      <th>2</th>\n",
       "      <td>3</td>\n",
       "      <td>41865</td>\n",
       "      <td>41865</td>\n",
       "      <td>3212258</td>\n",
       "      <td>226</td>\n",
       "      <td>316015849</td>\n",
       "      <td>9.780316e+12</td>\n",
       "      <td>Stephenie Meyer</td>\n",
       "      <td>2005.0</td>\n",
       "      <td>Twilight</td>\n",
       "      <td>...</td>\n",
       "      <td>3866839</td>\n",
       "      <td>3916824</td>\n",
       "      <td>95009</td>\n",
       "      <td>456191</td>\n",
       "      <td>436802</td>\n",
       "      <td>793319</td>\n",
       "      <td>875073</td>\n",
       "      <td>1355439</td>\n",
       "      <td>https://images.gr-assets.com/books/1361039443m...</td>\n",
       "      <td>https://images.gr-assets.com/books/1361039443s...</td>\n",
       "    </tr>\n",
       "    <tr>\n",
       "      <th>3</th>\n",
       "      <td>4</td>\n",
       "      <td>2657</td>\n",
       "      <td>2657</td>\n",
       "      <td>3275794</td>\n",
       "      <td>487</td>\n",
       "      <td>61120081</td>\n",
       "      <td>9.780061e+12</td>\n",
       "      <td>Harper Lee</td>\n",
       "      <td>1960.0</td>\n",
       "      <td>To Kill a Mockingbird</td>\n",
       "      <td>...</td>\n",
       "      <td>3198671</td>\n",
       "      <td>3340896</td>\n",
       "      <td>72586</td>\n",
       "      <td>60427</td>\n",
       "      <td>117415</td>\n",
       "      <td>446835</td>\n",
       "      <td>1001952</td>\n",
       "      <td>1714267</td>\n",
       "      <td>https://images.gr-assets.com/books/1361975680m...</td>\n",
       "      <td>https://images.gr-assets.com/books/1361975680s...</td>\n",
       "    </tr>\n",
       "    <tr>\n",
       "      <th>4</th>\n",
       "      <td>5</td>\n",
       "      <td>4671</td>\n",
       "      <td>4671</td>\n",
       "      <td>245494</td>\n",
       "      <td>1356</td>\n",
       "      <td>743273567</td>\n",
       "      <td>9.780743e+12</td>\n",
       "      <td>F. Scott Fitzgerald</td>\n",
       "      <td>1925.0</td>\n",
       "      <td>The Great Gatsby</td>\n",
       "      <td>...</td>\n",
       "      <td>2683664</td>\n",
       "      <td>2773745</td>\n",
       "      <td>51992</td>\n",
       "      <td>86236</td>\n",
       "      <td>197621</td>\n",
       "      <td>606158</td>\n",
       "      <td>936012</td>\n",
       "      <td>947718</td>\n",
       "      <td>https://images.gr-assets.com/books/1490528560m...</td>\n",
       "      <td>https://images.gr-assets.com/books/1490528560s...</td>\n",
       "    </tr>\n",
       "    <tr>\n",
       "      <th>...</th>\n",
       "      <td>...</td>\n",
       "      <td>...</td>\n",
       "      <td>...</td>\n",
       "      <td>...</td>\n",
       "      <td>...</td>\n",
       "      <td>...</td>\n",
       "      <td>...</td>\n",
       "      <td>...</td>\n",
       "      <td>...</td>\n",
       "      <td>...</td>\n",
       "      <td>...</td>\n",
       "      <td>...</td>\n",
       "      <td>...</td>\n",
       "      <td>...</td>\n",
       "      <td>...</td>\n",
       "      <td>...</td>\n",
       "      <td>...</td>\n",
       "      <td>...</td>\n",
       "      <td>...</td>\n",
       "      <td>...</td>\n",
       "      <td>...</td>\n",
       "    </tr>\n",
       "    <tr>\n",
       "      <th>9985</th>\n",
       "      <td>9986</td>\n",
       "      <td>183092</td>\n",
       "      <td>183092</td>\n",
       "      <td>176939</td>\n",
       "      <td>16</td>\n",
       "      <td>310257689</td>\n",
       "      <td>9.780310e+12</td>\n",
       "      <td>Terri Blackstock</td>\n",
       "      <td>2006.0</td>\n",
       "      <td>Night Light: A Restoration Novel</td>\n",
       "      <td>...</td>\n",
       "      <td>8471</td>\n",
       "      <td>8862</td>\n",
       "      <td>218</td>\n",
       "      <td>96</td>\n",
       "      <td>172</td>\n",
       "      <td>1115</td>\n",
       "      <td>2658</td>\n",
       "      <td>4821</td>\n",
       "      <td>https://s.gr-assets.com/assets/nophoto/book/11...</td>\n",
       "      <td>https://s.gr-assets.com/assets/nophoto/book/50...</td>\n",
       "    </tr>\n",
       "    <tr>\n",
       "      <th>9986</th>\n",
       "      <td>9987</td>\n",
       "      <td>8087038</td>\n",
       "      <td>8087038</td>\n",
       "      <td>12823536</td>\n",
       "      <td>29</td>\n",
       "      <td>312651198</td>\n",
       "      <td>9.780313e+12</td>\n",
       "      <td>Iris Johansen</td>\n",
       "      <td>2010.0</td>\n",
       "      <td>Chasing The Night</td>\n",
       "      <td>...</td>\n",
       "      <td>10129</td>\n",
       "      <td>10964</td>\n",
       "      <td>411</td>\n",
       "      <td>113</td>\n",
       "      <td>331</td>\n",
       "      <td>2127</td>\n",
       "      <td>3957</td>\n",
       "      <td>4436</td>\n",
       "      <td>https://s.gr-assets.com/assets/nophoto/book/11...</td>\n",
       "      <td>https://s.gr-assets.com/assets/nophoto/book/50...</td>\n",
       "    </tr>\n",
       "    <tr>\n",
       "      <th>9987</th>\n",
       "      <td>9988</td>\n",
       "      <td>129237</td>\n",
       "      <td>129237</td>\n",
       "      <td>1383130</td>\n",
       "      <td>44</td>\n",
       "      <td>674017722</td>\n",
       "      <td>9.780674e+12</td>\n",
       "      <td>John Rawls</td>\n",
       "      <td>1971.0</td>\n",
       "      <td>A Theory of Justice</td>\n",
       "      <td>...</td>\n",
       "      <td>8472</td>\n",
       "      <td>9108</td>\n",
       "      <td>168</td>\n",
       "      <td>234</td>\n",
       "      <td>607</td>\n",
       "      <td>2001</td>\n",
       "      <td>3171</td>\n",
       "      <td>3095</td>\n",
       "      <td>https://s.gr-assets.com/assets/nophoto/book/11...</td>\n",
       "      <td>https://s.gr-assets.com/assets/nophoto/book/50...</td>\n",
       "    </tr>\n",
       "    <tr>\n",
       "      <th>9988</th>\n",
       "      <td>9989</td>\n",
       "      <td>13489518</td>\n",
       "      <td>13489518</td>\n",
       "      <td>19028216</td>\n",
       "      <td>9</td>\n",
       "      <td>NaN</td>\n",
       "      <td>2.940015e+12</td>\n",
       "      <td>Quinn Loftis</td>\n",
       "      <td>2012.0</td>\n",
       "      <td>Out of the Dark</td>\n",
       "      <td>...</td>\n",
       "      <td>11994</td>\n",
       "      <td>13614</td>\n",
       "      <td>595</td>\n",
       "      <td>72</td>\n",
       "      <td>229</td>\n",
       "      <td>1263</td>\n",
       "      <td>3280</td>\n",
       "      <td>8770</td>\n",
       "      <td>https://images.gr-assets.com/books/1334785691m...</td>\n",
       "      <td>https://images.gr-assets.com/books/1334785691s...</td>\n",
       "    </tr>\n",
       "    <tr>\n",
       "      <th>9989</th>\n",
       "      <td>9990</td>\n",
       "      <td>294081</td>\n",
       "      <td>294081</td>\n",
       "      <td>14081</td>\n",
       "      <td>40</td>\n",
       "      <td>140143912</td>\n",
       "      <td>9.780140e+12</td>\n",
       "      <td>Oscar Hijuelos</td>\n",
       "      <td>1989.0</td>\n",
       "      <td>The Mambo Kings Play Songs of Love</td>\n",
       "      <td>...</td>\n",
       "      <td>9107</td>\n",
       "      <td>9776</td>\n",
       "      <td>421</td>\n",
       "      <td>374</td>\n",
       "      <td>836</td>\n",
       "      <td>2692</td>\n",
       "      <td>3513</td>\n",
       "      <td>2361</td>\n",
       "      <td>https://images.gr-assets.com/books/1330072994m...</td>\n",
       "      <td>https://images.gr-assets.com/books/1330072994s...</td>\n",
       "    </tr>\n",
       "  </tbody>\n",
       "</table>\n",
       "<p>9990 rows × 23 columns</p>\n",
       "</div>"
      ],
      "text/plain": [
       "      book_id  goodreads_book_id  best_book_id   work_id  books_count  \\\n",
       "0           1            2767052       2767052   2792775          272   \n",
       "1           2                  3             3   4640799          491   \n",
       "2           3              41865         41865   3212258          226   \n",
       "3           4               2657          2657   3275794          487   \n",
       "4           5               4671          4671    245494         1356   \n",
       "...       ...                ...           ...       ...          ...   \n",
       "9985     9986             183092        183092    176939           16   \n",
       "9986     9987            8087038       8087038  12823536           29   \n",
       "9987     9988             129237        129237   1383130           44   \n",
       "9988     9989           13489518      13489518  19028216            9   \n",
       "9989     9990             294081        294081     14081           40   \n",
       "\n",
       "           isbn        isbn13                       authors  \\\n",
       "0     439023483  9.780439e+12               Suzanne Collins   \n",
       "1     439554934  9.780440e+12  J.K. Rowling, Mary GrandPrÃ©   \n",
       "2     316015849  9.780316e+12               Stephenie Meyer   \n",
       "3      61120081  9.780061e+12                    Harper Lee   \n",
       "4     743273567  9.780743e+12           F. Scott Fitzgerald   \n",
       "...         ...           ...                           ...   \n",
       "9985  310257689  9.780310e+12              Terri Blackstock   \n",
       "9986  312651198  9.780313e+12                 Iris Johansen   \n",
       "9987  674017722  9.780674e+12                    John Rawls   \n",
       "9988        NaN  2.940015e+12                  Quinn Loftis   \n",
       "9989  140143912  9.780140e+12                Oscar Hijuelos   \n",
       "\n",
       "      original_publication_year                            original_title  \\\n",
       "0                        2008.0                          The Hunger Games   \n",
       "1                        1997.0  Harry Potter and the Philosopher's Stone   \n",
       "2                        2005.0                                  Twilight   \n",
       "3                        1960.0                     To Kill a Mockingbird   \n",
       "4                        1925.0                          The Great Gatsby   \n",
       "...                         ...                                       ...   \n",
       "9985                     2006.0          Night Light: A Restoration Novel   \n",
       "9986                     2010.0                         Chasing The Night   \n",
       "9987                     1971.0                       A Theory of Justice   \n",
       "9988                     2012.0                          Out of the Dark    \n",
       "9989                     1989.0        The Mambo Kings Play Songs of Love   \n",
       "\n",
       "      ... ratings_count work_ratings_count  work_text_reviews_count  \\\n",
       "0     ...       4780653            4942365                   155254   \n",
       "1     ...       4602479            4800065                    75867   \n",
       "2     ...       3866839            3916824                    95009   \n",
       "3     ...       3198671            3340896                    72586   \n",
       "4     ...       2683664            2773745                    51992   \n",
       "...   ...           ...                ...                      ...   \n",
       "9985  ...          8471               8862                      218   \n",
       "9986  ...         10129              10964                      411   \n",
       "9987  ...          8472               9108                      168   \n",
       "9988  ...         11994              13614                      595   \n",
       "9989  ...          9107               9776                      421   \n",
       "\n",
       "      ratings_1  ratings_2  ratings_3  ratings_4  ratings_5  \\\n",
       "0         66715     127936     560092    1481305    2706317   \n",
       "1         75504     101676     455024    1156318    3011543   \n",
       "2        456191     436802     793319     875073    1355439   \n",
       "3         60427     117415     446835    1001952    1714267   \n",
       "4         86236     197621     606158     936012     947718   \n",
       "...         ...        ...        ...        ...        ...   \n",
       "9985         96        172       1115       2658       4821   \n",
       "9986        113        331       2127       3957       4436   \n",
       "9987        234        607       2001       3171       3095   \n",
       "9988         72        229       1263       3280       8770   \n",
       "9989        374        836       2692       3513       2361   \n",
       "\n",
       "                                              image_url  \\\n",
       "0     https://images.gr-assets.com/books/1447303603m...   \n",
       "1     https://images.gr-assets.com/books/1474154022m...   \n",
       "2     https://images.gr-assets.com/books/1361039443m...   \n",
       "3     https://images.gr-assets.com/books/1361975680m...   \n",
       "4     https://images.gr-assets.com/books/1490528560m...   \n",
       "...                                                 ...   \n",
       "9985  https://s.gr-assets.com/assets/nophoto/book/11...   \n",
       "9986  https://s.gr-assets.com/assets/nophoto/book/11...   \n",
       "9987  https://s.gr-assets.com/assets/nophoto/book/11...   \n",
       "9988  https://images.gr-assets.com/books/1334785691m...   \n",
       "9989  https://images.gr-assets.com/books/1330072994m...   \n",
       "\n",
       "                                        small_image_url  \n",
       "0     https://images.gr-assets.com/books/1447303603s...  \n",
       "1     https://images.gr-assets.com/books/1474154022s...  \n",
       "2     https://images.gr-assets.com/books/1361039443s...  \n",
       "3     https://images.gr-assets.com/books/1361975680s...  \n",
       "4     https://images.gr-assets.com/books/1490528560s...  \n",
       "...                                                 ...  \n",
       "9985  https://s.gr-assets.com/assets/nophoto/book/50...  \n",
       "9986  https://s.gr-assets.com/assets/nophoto/book/50...  \n",
       "9987  https://s.gr-assets.com/assets/nophoto/book/50...  \n",
       "9988  https://images.gr-assets.com/books/1334785691s...  \n",
       "9989  https://images.gr-assets.com/books/1330072994s...  \n",
       "\n",
       "[9990 rows x 23 columns]"
      ]
     },
     "execution_count": 2,
     "metadata": {},
     "output_type": "execute_result"
    }
   ],
   "source": [
    "books = pd.read_csv('data\\books.csv', encoding = \"ISO-8859-1\")\n",
    "books.head(-10)"
   ]
  },
  {
   "cell_type": "code",
   "execution_count": 3,
   "metadata": {
    "colab": {
     "base_uri": "https://localhost:8080/",
     "height": 140
    },
    "id": "x0R36bLNbKMh",
    "outputId": "833bb6ba-d6f8-42c5-9b05-741380dcad80"
   },
   "outputs": [
    {
     "data": {
      "text/plain": [
       "Index(['book_id', 'goodreads_book_id', 'best_book_id', 'work_id',\n",
       "       'books_count', 'isbn', 'isbn13', 'authors', 'original_publication_year',\n",
       "       'original_title', 'title', 'language_code', 'average_rating',\n",
       "       'ratings_count', 'work_ratings_count', 'work_text_reviews_count',\n",
       "       'ratings_1', 'ratings_2', 'ratings_3', 'ratings_4', 'ratings_5',\n",
       "       'image_url', 'small_image_url'],\n",
       "      dtype='object')"
      ]
     },
     "execution_count": 3,
     "metadata": {},
     "output_type": "execute_result"
    }
   ],
   "source": [
    "books.columns\n"
   ]
  },
  {
   "cell_type": "code",
   "execution_count": 5,
   "metadata": {
    "colab": {
     "base_uri": "https://localhost:8080/",
     "height": 195
    },
    "id": "SmINo0tzbNeH",
    "outputId": "6fc401b3-1b0a-4b76-c26f-e164def541f3"
   },
   "outputs": [
    {
     "data": {
      "text/html": [
       "<div>\n",
       "<style scoped>\n",
       "    .dataframe tbody tr th:only-of-type {\n",
       "        vertical-align: middle;\n",
       "    }\n",
       "\n",
       "    .dataframe tbody tr th {\n",
       "        vertical-align: top;\n",
       "    }\n",
       "\n",
       "    .dataframe thead th {\n",
       "        text-align: right;\n",
       "    }\n",
       "</style>\n",
       "<table border=\"1\" class=\"dataframe\">\n",
       "  <thead>\n",
       "    <tr style=\"text-align: right;\">\n",
       "      <th></th>\n",
       "      <th>user_id</th>\n",
       "      <th>book_id</th>\n",
       "      <th>rating</th>\n",
       "    </tr>\n",
       "  </thead>\n",
       "  <tbody>\n",
       "    <tr>\n",
       "      <th>0</th>\n",
       "      <td>1</td>\n",
       "      <td>258</td>\n",
       "      <td>5</td>\n",
       "    </tr>\n",
       "    <tr>\n",
       "      <th>1</th>\n",
       "      <td>2</td>\n",
       "      <td>4081</td>\n",
       "      <td>4</td>\n",
       "    </tr>\n",
       "    <tr>\n",
       "      <th>2</th>\n",
       "      <td>2</td>\n",
       "      <td>260</td>\n",
       "      <td>5</td>\n",
       "    </tr>\n",
       "    <tr>\n",
       "      <th>3</th>\n",
       "      <td>2</td>\n",
       "      <td>9296</td>\n",
       "      <td>5</td>\n",
       "    </tr>\n",
       "    <tr>\n",
       "      <th>4</th>\n",
       "      <td>2</td>\n",
       "      <td>2318</td>\n",
       "      <td>3</td>\n",
       "    </tr>\n",
       "  </tbody>\n",
       "</table>\n",
       "</div>"
      ],
      "text/plain": [
       "   user_id  book_id  rating\n",
       "0        1      258       5\n",
       "1        2     4081       4\n",
       "2        2      260       5\n",
       "3        2     9296       5\n",
       "4        2     2318       3"
      ]
     },
     "execution_count": 5,
     "metadata": {},
     "output_type": "execute_result"
    }
   ],
   "source": [
    "ratings = pd.read_csv('data\\ratings.csv', encoding = \"ISO-8859-1\")\n",
    "ratings.head()"
   ]
  },
  {
   "cell_type": "code",
   "execution_count": 6,
   "metadata": {
    "colab": {
     "base_uri": "https://localhost:8080/",
     "height": 195
    },
    "id": "cV1c0cLvbQaO",
    "outputId": "4848cfb8-5008-4967-ad51-5b897b492845"
   },
   "outputs": [
    {
     "data": {
      "text/html": [
       "<div>\n",
       "<style scoped>\n",
       "    .dataframe tbody tr th:only-of-type {\n",
       "        vertical-align: middle;\n",
       "    }\n",
       "\n",
       "    .dataframe tbody tr th {\n",
       "        vertical-align: top;\n",
       "    }\n",
       "\n",
       "    .dataframe thead th {\n",
       "        text-align: right;\n",
       "    }\n",
       "</style>\n",
       "<table border=\"1\" class=\"dataframe\">\n",
       "  <thead>\n",
       "    <tr style=\"text-align: right;\">\n",
       "      <th></th>\n",
       "      <th>goodreads_book_id</th>\n",
       "      <th>tag_id</th>\n",
       "      <th>count</th>\n",
       "    </tr>\n",
       "  </thead>\n",
       "  <tbody>\n",
       "    <tr>\n",
       "      <th>0</th>\n",
       "      <td>1</td>\n",
       "      <td>30574</td>\n",
       "      <td>167697</td>\n",
       "    </tr>\n",
       "    <tr>\n",
       "      <th>1</th>\n",
       "      <td>1</td>\n",
       "      <td>11305</td>\n",
       "      <td>37174</td>\n",
       "    </tr>\n",
       "    <tr>\n",
       "      <th>2</th>\n",
       "      <td>1</td>\n",
       "      <td>11557</td>\n",
       "      <td>34173</td>\n",
       "    </tr>\n",
       "    <tr>\n",
       "      <th>3</th>\n",
       "      <td>1</td>\n",
       "      <td>8717</td>\n",
       "      <td>12986</td>\n",
       "    </tr>\n",
       "    <tr>\n",
       "      <th>4</th>\n",
       "      <td>1</td>\n",
       "      <td>33114</td>\n",
       "      <td>12716</td>\n",
       "    </tr>\n",
       "  </tbody>\n",
       "</table>\n",
       "</div>"
      ],
      "text/plain": [
       "   goodreads_book_id  tag_id   count\n",
       "0                  1   30574  167697\n",
       "1                  1   11305   37174\n",
       "2                  1   11557   34173\n",
       "3                  1    8717   12986\n",
       "4                  1   33114   12716"
      ]
     },
     "execution_count": 6,
     "metadata": {},
     "output_type": "execute_result"
    }
   ],
   "source": [
    "book_tags = pd.read_csv('data\\book_tags.csv', encoding = \"ISO-8859-1\")\n",
    "book_tags.head()"
   ]
  },
  {
   "cell_type": "code",
   "execution_count": 7,
   "metadata": {
    "colab": {
     "base_uri": "https://localhost:8080/",
     "height": 195
    },
    "id": "uYkW2tFEbTan",
    "outputId": "043930a8-ffef-4b91-f45e-4f6ddc54e92f"
   },
   "outputs": [
    {
     "data": {
      "text/html": [
       "<div>\n",
       "<style scoped>\n",
       "    .dataframe tbody tr th:only-of-type {\n",
       "        vertical-align: middle;\n",
       "    }\n",
       "\n",
       "    .dataframe tbody tr th {\n",
       "        vertical-align: top;\n",
       "    }\n",
       "\n",
       "    .dataframe thead th {\n",
       "        text-align: right;\n",
       "    }\n",
       "</style>\n",
       "<table border=\"1\" class=\"dataframe\">\n",
       "  <thead>\n",
       "    <tr style=\"text-align: right;\">\n",
       "      <th></th>\n",
       "      <th>tag_id</th>\n",
       "      <th>tag_name</th>\n",
       "    </tr>\n",
       "  </thead>\n",
       "  <tbody>\n",
       "    <tr>\n",
       "      <th>34247</th>\n",
       "      <td>34247</td>\n",
       "      <td>Ｃhildrens</td>\n",
       "    </tr>\n",
       "    <tr>\n",
       "      <th>34248</th>\n",
       "      <td>34248</td>\n",
       "      <td>Ｆａｖｏｒｉｔｅｓ</td>\n",
       "    </tr>\n",
       "    <tr>\n",
       "      <th>34249</th>\n",
       "      <td>34249</td>\n",
       "      <td>Ｍａｎｇａ</td>\n",
       "    </tr>\n",
       "    <tr>\n",
       "      <th>34250</th>\n",
       "      <td>34250</td>\n",
       "      <td>ＳＥＲＩＥＳ</td>\n",
       "    </tr>\n",
       "    <tr>\n",
       "      <th>34251</th>\n",
       "      <td>34251</td>\n",
       "      <td>ｆａｖｏｕｒｉｔｅｓ</td>\n",
       "    </tr>\n",
       "  </tbody>\n",
       "</table>\n",
       "</div>"
      ],
      "text/plain": [
       "       tag_id    tag_name\n",
       "34247   34247   Ｃhildrens\n",
       "34248   34248   Ｆａｖｏｒｉｔｅｓ\n",
       "34249   34249       Ｍａｎｇａ\n",
       "34250   34250      ＳＥＲＩＥＳ\n",
       "34251   34251  ｆａｖｏｕｒｉｔｅｓ"
      ]
     },
     "execution_count": 7,
     "metadata": {},
     "output_type": "execute_result"
    }
   ],
   "source": [
    "tags = pd.read_csv('data\\tags.csv')\n",
    "tags.tail()"
   ]
  },
  {
   "cell_type": "markdown",
   "metadata": {
    "id": "Q_QNdBPobbRO"
   },
   "source": [
    "## Joining Tags and book tags"
   ]
  },
  {
   "cell_type": "code",
   "execution_count": 8,
   "metadata": {
    "colab": {
     "base_uri": "https://localhost:8080/",
     "height": 195
    },
    "id": "AXIQUXxibXx3",
    "outputId": "a1dca971-0122-43ba-b9d5-0b4c96601500"
   },
   "outputs": [
    {
     "data": {
      "text/html": [
       "<div>\n",
       "<style scoped>\n",
       "    .dataframe tbody tr th:only-of-type {\n",
       "        vertical-align: middle;\n",
       "    }\n",
       "\n",
       "    .dataframe tbody tr th {\n",
       "        vertical-align: top;\n",
       "    }\n",
       "\n",
       "    .dataframe thead th {\n",
       "        text-align: right;\n",
       "    }\n",
       "</style>\n",
       "<table border=\"1\" class=\"dataframe\">\n",
       "  <thead>\n",
       "    <tr style=\"text-align: right;\">\n",
       "      <th></th>\n",
       "      <th>goodreads_book_id</th>\n",
       "      <th>tag_id</th>\n",
       "      <th>count</th>\n",
       "      <th>tag_name</th>\n",
       "    </tr>\n",
       "  </thead>\n",
       "  <tbody>\n",
       "    <tr>\n",
       "      <th>0</th>\n",
       "      <td>1</td>\n",
       "      <td>30574</td>\n",
       "      <td>167697</td>\n",
       "      <td>to-read</td>\n",
       "    </tr>\n",
       "    <tr>\n",
       "      <th>1</th>\n",
       "      <td>2</td>\n",
       "      <td>30574</td>\n",
       "      <td>24549</td>\n",
       "      <td>to-read</td>\n",
       "    </tr>\n",
       "    <tr>\n",
       "      <th>2</th>\n",
       "      <td>3</td>\n",
       "      <td>30574</td>\n",
       "      <td>496107</td>\n",
       "      <td>to-read</td>\n",
       "    </tr>\n",
       "    <tr>\n",
       "      <th>3</th>\n",
       "      <td>5</td>\n",
       "      <td>30574</td>\n",
       "      <td>11909</td>\n",
       "      <td>to-read</td>\n",
       "    </tr>\n",
       "    <tr>\n",
       "      <th>4</th>\n",
       "      <td>6</td>\n",
       "      <td>30574</td>\n",
       "      <td>298</td>\n",
       "      <td>to-read</td>\n",
       "    </tr>\n",
       "  </tbody>\n",
       "</table>\n",
       "</div>"
      ],
      "text/plain": [
       "   goodreads_book_id  tag_id   count tag_name\n",
       "0                  1   30574  167697  to-read\n",
       "1                  2   30574   24549  to-read\n",
       "2                  3   30574  496107  to-read\n",
       "3                  5   30574   11909  to-read\n",
       "4                  6   30574     298  to-read"
      ]
     },
     "execution_count": 8,
     "metadata": {},
     "output_type": "execute_result"
    }
   ],
   "source": [
    "tags_join_DF = pd.merge(book_tags, tags, left_on='tag_id', right_on='tag_id', how='inner')\n",
    "tags_join_DF.head()"
   ]
  },
  {
   "cell_type": "code",
   "execution_count": 9,
   "metadata": {
    "colab": {
     "base_uri": "https://localhost:8080/",
     "height": 195
    },
    "id": "WKqTLpJsbhwn",
    "outputId": "e32a410b-604c-41d6-e5a4-dd9f369e088e"
   },
   "outputs": [
    {
     "data": {
      "text/html": [
       "<div>\n",
       "<style scoped>\n",
       "    .dataframe tbody tr th:only-of-type {\n",
       "        vertical-align: middle;\n",
       "    }\n",
       "\n",
       "    .dataframe tbody tr th {\n",
       "        vertical-align: top;\n",
       "    }\n",
       "\n",
       "    .dataframe thead th {\n",
       "        text-align: right;\n",
       "    }\n",
       "</style>\n",
       "<table border=\"1\" class=\"dataframe\">\n",
       "  <thead>\n",
       "    <tr style=\"text-align: right;\">\n",
       "      <th></th>\n",
       "      <th>user_id</th>\n",
       "      <th>book_id</th>\n",
       "    </tr>\n",
       "  </thead>\n",
       "  <tbody>\n",
       "    <tr>\n",
       "      <th>0</th>\n",
       "      <td>9</td>\n",
       "      <td>8</td>\n",
       "    </tr>\n",
       "    <tr>\n",
       "      <th>1</th>\n",
       "      <td>15</td>\n",
       "      <td>398</td>\n",
       "    </tr>\n",
       "    <tr>\n",
       "      <th>2</th>\n",
       "      <td>15</td>\n",
       "      <td>275</td>\n",
       "    </tr>\n",
       "    <tr>\n",
       "      <th>3</th>\n",
       "      <td>37</td>\n",
       "      <td>7173</td>\n",
       "    </tr>\n",
       "    <tr>\n",
       "      <th>4</th>\n",
       "      <td>34</td>\n",
       "      <td>380</td>\n",
       "    </tr>\n",
       "  </tbody>\n",
       "</table>\n",
       "</div>"
      ],
      "text/plain": [
       "   user_id  book_id\n",
       "0        9        8\n",
       "1       15      398\n",
       "2       15      275\n",
       "3       37     7173\n",
       "4       34      380"
      ]
     },
     "execution_count": 9,
     "metadata": {},
     "output_type": "execute_result"
    }
   ],
   "source": [
    "to_read = pd.read_csv('data\\to_read.csv')\n",
    "to_read.head()"
   ]
  },
  {
   "cell_type": "markdown",
   "metadata": {
    "id": "pI8QJGGmbp_q"
   },
   "source": [
    "# Training"
   ]
  },
  {
   "cell_type": "markdown",
   "metadata": {
    "id": "wgwJKmApbt8q"
   },
   "source": [
    "TfidfVectorizer transforms text to feature vectors that can be used as input.\n",
    "\n",
    "Cosine Similarity to calculate a numeric value that denotes the similarity between two books.\n",
    "\n"
   ]
  },
  {
   "cell_type": "code",
   "execution_count": 10,
   "metadata": {
    "id": "V6hDQ-frblYL"
   },
   "outputs": [],
   "source": [
    "tf = TfidfVectorizer(analyzer='word',ngram_range=(1, 2),min_df=0, stop_words='english')\n",
    "tfidf_matrix = tf.fit_transform(books['authors'])\n",
    "# compute the cosine similarity for the data\n",
    "cosine_sim = linear_kernel(tfidf_matrix, tfidf_matrix)"
   ]
  },
  {
   "cell_type": "code",
   "execution_count": 11,
   "metadata": {
    "id": "JSBMzzdkc0n5"
   },
   "outputs": [],
   "source": [
    "titles = books['title']\n",
    "indices = pd.Series(books.index, index=books['title'])\n",
    "\n",
    "# Function that get book recommendations based on the cosine similarity score of book authors\n",
    "def authors_recommendations(title):\n",
    "    idx = indices[title] # gets the index number for the given title\n",
    "    sim_scores = list(enumerate(cosine_sim[idx])) # gets the cosine sim values for given book using the index\n",
    "    sim_scores = sorted(sim_scores, key=lambda x: x[1], reverse=True) # sort in descending order based on similarity\n",
    "    sim_scores = sim_scores[1:21] # return the top 20 book index's\n",
    "    book_indices = [i[0] for i in sim_scores]  \n",
    "    return titles.iloc[book_indices] # get the book titles and return the top 20 books"
   ]
  },
  {
   "cell_type": "markdown",
   "metadata": {
    "id": "5cyvPUh2dwiL"
   },
   "source": [
    "# Testing"
   ]
  },
  {
   "cell_type": "code",
   "execution_count": 12,
   "metadata": {
    "colab": {
     "base_uri": "https://localhost:8080/",
     "height": 386
    },
    "id": "mX5ku7iidEVn",
    "outputId": "dc2fca47-384e-4c85-aba0-701de528a7a8"
   },
   "outputs": [
    {
     "data": {
      "text/plain": [
       "153                                Macbeth\n",
       "352                                Othello\n",
       "713                              King Lear\n",
       "772                The Taming of the Shrew\n",
       "803                            The Tempest\n",
       "854                          Twelfth Night\n",
       "1884                        As You Like It\n",
       "2208                    The Complete Works\n",
       "6416                     The Winter's Tale\n",
       "6529                      Titus Andronicus\n",
       "6691                  The Comedy of Errors\n",
       "399                            Neuromancer\n",
       "2615    Pattern Recognition (Blue Ant, #1)\n",
       "3005               Count Zero (Sprawl, #2)\n",
       "3547                    The Miracle Worker\n",
       "3883      Mona Lisa Overdrive (Sprawl, #3)\n",
       "5590            Virtual Light (Bridge, #1)\n",
       "5629                     Idoru (Bridge #2)\n",
       "6164          Spook Country (Blue Ant, #2)\n",
       "7364                        The Peripheral\n",
       "Name: title, dtype: object"
      ]
     },
     "execution_count": 12,
     "metadata": {},
     "output_type": "execute_result"
    }
   ],
   "source": [
    "authors_recommendations('Lord of the Flies').head(20)"
   ]
  },
  {
   "cell_type": "code",
   "execution_count": 13,
   "metadata": {
    "colab": {
     "base_uri": "https://localhost:8080/",
     "height": 386
    },
    "id": "s8NXTXHndy4R",
    "outputId": "565ede66-9496-4061-8754-d3f8a142b0b4"
   },
   "outputs": [
    {
     "data": {
      "text/plain": [
       "838                              The Merchant of Venice\n",
       "153                                             Macbeth\n",
       "352                                             Othello\n",
       "713                                           King Lear\n",
       "772                             The Taming of the Shrew\n",
       "803                                         The Tempest\n",
       "854                                       Twelfth Night\n",
       "1884                                     As You Like It\n",
       "2208                                 The Complete Works\n",
       "6416                                  The Winter's Tale\n",
       "6529                                   Titus Andronicus\n",
       "6691                               The Comedy of Errors\n",
       "8895                                         Richard II\n",
       "8028             City of Stairs (The Divine Cities, #1)\n",
       "529                              Much Ado About Nothing\n",
       "3699                                        Richard III\n",
       "769                                       Julius Caesar\n",
       "554     Hamlet: Screenplay, Introduction And Film Diary\n",
       "7073      King Henry IV, Part 1 (Wars of the Roses, #2)\n",
       "1665                              Shakespeare's Sonnets\n",
       "Name: title, dtype: object"
      ]
     },
     "execution_count": 13,
     "metadata": {},
     "output_type": "execute_result"
    }
   ],
   "source": [
    "authors_recommendations('Romeo and Juliet').head(20)"
   ]
  },
  {
   "cell_type": "markdown",
   "metadata": {
    "id": "nsxJbOIhewAO"
   },
   "source": [
    "### The above recommendation was done based on Book Authors which is not very Accurate\n",
    "Let us do it based on the similarity between the book tags."
   ]
  },
  {
   "cell_type": "code",
   "execution_count": 14,
   "metadata": {
    "id": "foHls-zWf9EH"
   },
   "outputs": [],
   "source": [
    "books_with_tags = pd.merge(books, tags_join_DF, left_on='book_id', right_on='goodreads_book_id', how='inner')\n",
    "tf1 = TfidfVectorizer(analyzer='word',ngram_range=(1, 2),min_df=0, stop_words='english')\n",
    "tfidf_matrix1 = tf1.fit_transform(books_with_tags['tag_name'].head(10000))\n",
    "cosine_sim_tags = linear_kernel(tfidf_matrix1, tfidf_matrix1)\n"
   ]
  },
  {
   "cell_type": "code",
   "execution_count": 15,
   "metadata": {
    "id": "_cr2nRWteYD7"
   },
   "outputs": [],
   "source": [
    "titles1 = books['title']\n",
    "indices1 = pd.Series(books.index, index=books['title'])\n",
    "\n",
    "# Function that get book recommendations based on the cosine similarity score of books tags\n",
    "def tags_recommendations(title):\n",
    "    idx = indices1[title]\n",
    "    sim_scores = list(enumerate(cosine_sim_tags[idx]))\n",
    "    sim_scores = sorted(sim_scores, key=lambda x: x[1], reverse=True)\n",
    "    sim_scores = sim_scores[1:21]\n",
    "    book_indices = [i[0] for i in sim_scores]\n",
    "    return titles.iloc[book_indices]\n"
   ]
  },
  {
   "cell_type": "code",
   "execution_count": 16,
   "metadata": {
    "colab": {
     "base_uri": "https://localhost:8080/",
     "height": 386
    },
    "id": "YYv4Wp0Nftqz",
    "outputId": "dc71520c-16e6-48db-9ed5-56333f426538"
   },
   "outputs": [
    {
     "data": {
      "text/plain": [
       "118                                   The Handmaid's Tale\n",
       "229                                            Persuasion\n",
       "328                                      The Last Lecture\n",
       "423                                  The Name of the Rose\n",
       "626                   The True Story of the 3 Little Pigs\n",
       "721                 The Shadow Rising (Wheel of Time, #4)\n",
       "913                 The Forever War (The Forever War, #1)\n",
       "1014                                          Steppenwolf\n",
       "1109                            Maybe Someday (Maybe, #1)\n",
       "1212              Children of the Mind (Ender's Saga, #4)\n",
       "1312    Band of Brothers: E Company, 506th Regiment, 1...\n",
       "1413     True Believer (Jeremy Marsh & Lexie Darnell, #1)\n",
       "1508                                   The House of Mirth\n",
       "1621          A Connecticut Yankee in King Arthur's Court\n",
       "1823                   Flawless (Pretty Little Liars, #2)\n",
       "2020             The Twilight Collection (Twilight, #1-3)\n",
       "2112                         Memory Man (Amos Decker, #1)\n",
       "2221                                            Fireproof\n",
       "2418                             Of Love and Other Demons\n",
       "2517                      Academ's Fury (Codex Alera, #2)\n",
       "Name: title, dtype: object"
      ]
     },
     "execution_count": 16,
     "metadata": {},
     "output_type": "execute_result"
    }
   ],
   "source": [
    "tags_recommendations('Romeo and Juliet').head(20)"
   ]
  },
  {
   "cell_type": "code",
   "execution_count": 17,
   "metadata": {
    "colab": {
     "base_uri": "https://localhost:8080/",
     "height": 386
    },
    "id": "YwinzswqgcBx",
    "outputId": "89159b51-445a-42e3-bb60-b1e4a08aea40"
   },
   "outputs": [
    {
     "data": {
      "text/plain": [
       "1     Harry Potter and the Sorcerer's Stone (Harry P...\n",
       "2                               Twilight (Twilight, #1)\n",
       "3                                 To Kill a Mockingbird\n",
       "4                                      The Great Gatsby\n",
       "5                                The Fault in Our Stars\n",
       "6                                            The Hobbit\n",
       "7                                The Catcher in the Rye\n",
       "8                 Angels & Demons  (Robert Langdon, #1)\n",
       "9                                   Pride and Prejudice\n",
       "10                                      The Kite Runner\n",
       "11                            Divergent (Divergent, #1)\n",
       "12                                                 1984\n",
       "13                                          Animal Farm\n",
       "14                            The Diary of a Young Girl\n",
       "15     The Girl with the Dragon Tattoo (Millennium, #1)\n",
       "16                 Catching Fire (The Hunger Games, #2)\n",
       "17    Harry Potter and the Prisoner of Azkaban (Harr...\n",
       "18    The Fellowship of the Ring (The Lord of the Ri...\n",
       "19                    Mockingjay (The Hunger Games, #3)\n",
       "20    Harry Potter and the Order of the Phoenix (Har...\n",
       "Name: title, dtype: object"
      ]
     },
     "execution_count": 17,
     "metadata": {},
     "output_type": "execute_result"
    }
   ],
   "source": [
    "tags_recommendations('Lord of the Flies').head(20)"
   ]
  }
 ],
 "metadata": {
  "colab": {
   "collapsed_sections": [],
   "machine_shape": "hm",
   "name": "Book Recommendation v2.ipynb",
   "provenance": []
  },
  "kernelspec": {
   "display_name": "Python 3",
   "language": "python",
   "name": "python3"
  },
  "language_info": {
   "codemirror_mode": {
    "name": "ipython",
    "version": 3
   },
   "file_extension": ".py",
   "mimetype": "text/x-python",
   "name": "python",
   "nbconvert_exporter": "python",
   "pygments_lexer": "ipython3",
   "version": "3.8.5"
  }
 },
 "nbformat": 4,
 "nbformat_minor": 1
}
